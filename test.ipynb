{
 "cells": [
  {
   "cell_type": "markdown",
   "metadata": {},
   "source": [
    "# Text Summariser with Sentiment Analysis"
   ]
  },
  {
   "cell_type": "markdown",
   "metadata": {},
   "source": [
    "## Importing Libraries"
   ]
  },
  {
   "cell_type": "code",
   "execution_count": null,
   "metadata": {},
   "outputs": [],
   "source": [
    "import gradio as gr\n",
    "from articles import *\n",
    "from transformers import pipeline\n"
   ]
  },
  {
   "cell_type": "markdown",
   "metadata": {},
   "source": [
    "## Summarizer"
   ]
  },
  {
   "cell_type": "code",
   "execution_count": null,
   "metadata": {},
   "outputs": [],
   "source": [
    "\n",
    "def summarise(text, max_length=130, min_length=30, model='facebook/bart-large-cnn'):\n",
    "    '''\n",
    "    This function takes in a text and returns a summary of the text along with the sentiment of the summary.\n",
    "    '''\n",
    "    \n",
    "    summarizer = pipeline(\"summarization\", model=model) # Summarizer pipeline\n",
    "    \n",
    "    result = summarizer(text, max_length=max_length, min_length=min_length) # Summarize the text\n",
    "    \n",
    "    sent_analysis = pipeline(\n",
    "        \"sentiment-analysis\", model=\"finiteautomata/bertweet-base-sentiment-analysis\") # Sentiment analysis pipeline\n",
    "    \n",
    "    sent = sent_analysis(result[0]['summary_text'])[0] # Get the sentiment of the summary\n",
    "    \n",
    "    if sent['label'] == 'POS': # If the sentiment is positive\n",
    "        sent1 = 'Sentiment of this Article is Positive with a score of {:.2f}%'.format(sent['score']*100)\n",
    "        \n",
    "    elif sent['label'] == 'NEU': # If the sentiment is neutral\n",
    "        sent1 = 'Sentiment of this Article is Neutral with a score of {:.2f}%'.format(\n",
    "            sent['score']*100)\n",
    "        \n",
    "    elif sent['label'] == 'NEG': # If the sentiment is negative\n",
    "        sent1 = 'Sentiment of this Article is Negative with a score of {:.2f}%'.format(\n",
    "            sent['score']*100)\n",
    "        \n",
    "    return result[0]['summary_text'], sent1 # Return the summary and the sentiment\n"
   ]
  },
  {
   "cell_type": "markdown",
   "metadata": {},
   "source": [
    "## Making Gradio App"
   ]
  },
  {
   "cell_type": "code",
   "execution_count": null,
   "metadata": {},
   "outputs": [],
   "source": [
    "\n",
    "demo = gr.Blocks() # Create a gradio block\n",
    "\n",
    "with demo:\n",
    "    gr.Markdown(\"# Text Summarizer with Sentiment Analysis\")\n",
    "    gr.Markdown(\"### Enter the text you want to summarise or choose from examples below\")\n",
    "    with gr.Tabs():\n",
    "        with gr.TabItem(\"Examples\"): # If the user wants to use the examples\n",
    "            with gr.Column():\n",
    "                rad = gr.components.Radio(\n",
    "                    ['Article 1', 'Article 2', 'Article 3'], label='Select article and wait till it appears!') # Radio button to select the article\n",
    "                text1 = gr.Textbox(label='Example') # Textbox to show the article\n",
    "                rad2 = gr.components.Radio(\n",
    "                    ['Facebook\\'s Large Bart Model', 'DistilBart', 'Google\\'s Pegasus'], label='Select Model for summarisation') # Radio button to select the model\n",
    "                max1 = gr.components.Slider(100, 200, 130, label='Max Length for Summary') # Slider to select the max length of the summary\n",
    "                min1 = gr.components.Slider(20, 100, 30, label='Min Length for Summary') # Sliders to select the min length of the summary\n",
    "            submit1 = gr.Button('Submit')\n",
    "        with gr.TabItem(\"Do it yourself!\"): # If the user wants to enter their own text\n",
    "            with gr.Column():\n",
    "                text2 = gr.components.Textbox(label='Enter your own text here!')\n",
    "                rad3 = gr.components.Radio(\n",
    "                    ['Facebook\\'s Large Bart Model', 'DistilBart', 'Google\\'s Pegasus'], label='Select Model for summarisation') # Radio button to select the model\n",
    "                max2 = gr.components.Slider(0, 200, 130, label='Max Length for Summary') # Slider to select the max length of the summary\n",
    "                min2 = gr.components.Slider(0, 100, 30, label='Min Length for Summary') # Sliders to select the min length of the summary\n",
    "            submit2 = gr.Button('Submit')\n",
    "                \n",
    "        def action1(choice): # Function to show the article when the user selects the article\n",
    "            if choice == 'Article 1':\n",
    "                return ARTICLE_1\n",
    "            elif choice == 'Article 2':\n",
    "                return ARTICLE_2\n",
    "            elif choice == 'Article 3':\n",
    "                return ARTICLE_3\n",
    "\n",
    "        def models(model_name): # Function to select the model\n",
    "            if model_name == 'Facebook\\'s Large Bart Model':\n",
    "                return 'facebook/bart-large-cnn'\n",
    "            elif model_name == 'DistilBart':\n",
    "                return 'sshleifer/distilbart-cnn-12-6'\n",
    "            elif model_name == 'Google\\'s Pegasus':\n",
    "                return 'google/pegasus-xsum'\n",
    "            elif model_name is None:\n",
    "                return 'facebook/bart-large-cnn'\n",
    "        \n",
    "        rad.change(action1, rad, text1) # Change the article when the user selects the article\n",
    "        \n",
    "        op = gr.outputs.Textbox(label='Summary') # Output for the summary\n",
    "        op2 = gr.outputs.Textbox(label='Sentiment Analysis of Summary') # Output for the sentiment analysis of the summary\n",
    "        \n",
    "        def fn(text, model, max_length, min_length): # Main function\n",
    "            model = models(model)\n",
    "            result = summarise(text, max_length, min_length, model)\n",
    "            return result\n",
    "        \n",
    "        submit1.click(fn=fn, inputs=[text1, rad2, max1, min1], outputs=[op, op2]) # Submit button for the examples\n",
    "        submit2.click(fn=fn, inputs=[text2, rad3, max2, min2], outputs=[op, op2]) # Submit button for the user input\n",
    "        \n"
   ]
  },
  {
   "cell_type": "markdown",
   "metadata": {},
   "source": [
    "## Launching App"
   ]
  },
  {
   "cell_type": "code",
   "execution_count": null,
   "metadata": {},
   "outputs": [],
   "source": [
    "demo.launch(server_port=8080, server_name='0.0.0.0') # Launch the gradio block"
   ]
  }
 ],
 "metadata": {
  "kernelspec": {
   "display_name": "tf",
   "language": "python",
   "name": "python3"
  },
  "language_info": {
   "codemirror_mode": {
    "name": "ipython",
    "version": 3
   },
   "file_extension": ".py",
   "mimetype": "text/x-python",
   "name": "python",
   "nbconvert_exporter": "python",
   "pygments_lexer": "ipython3",
   "version": "3.9.13"
  },
  "orig_nbformat": 4,
  "vscode": {
   "interpreter": {
    "hash": "64a1f6578a5146c7e09b91587d6d6ce7db0300aa6841235dfb64e80acde48245"
   }
  }
 },
 "nbformat": 4,
 "nbformat_minor": 2
}
